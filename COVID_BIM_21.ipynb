{
  "nbformat": 4,
  "nbformat_minor": 0,
  "metadata": {
    "accelerator": "TPU",
    "colab": {
      "name": "COVID BIM 21.ipynb",
      "provenance": [],
      "collapsed_sections": [],
      "include_colab_link": true
    },
    "kernelspec": {
      "display_name": "Python 3",
      "language": "python",
      "name": "python3"
    },
    "language_info": {
      "codemirror_mode": {
        "name": "ipython",
        "version": 3
      },
      "file_extension": ".py",
      "mimetype": "text/x-python",
      "name": "python",
      "nbconvert_exporter": "python",
      "pygments_lexer": "ipython3",
      "version": "3.7.3"
    }
  },
  "cells": [
    {
      "cell_type": "markdown",
      "metadata": {
        "id": "view-in-github",
        "colab_type": "text"
      },
      "source": [
        "<a href=\"https://colab.research.google.com/github/rabbi123080/A-Convolutional-Neural-Network-Model-for-Screening-COVID-19-Patients-Based-on-CT-Scan-Images/blob/main/COVID_BIM_21.ipynb\" target=\"_parent\"><img src=\"https://colab.research.google.com/assets/colab-badge.svg\" alt=\"Open In Colab\"/></a>"
      ]
    },
    {
      "cell_type": "code",
      "metadata": {
        "colab": {
          "base_uri": "https://localhost:8080/"
        },
        "id": "dbT5J97iGytT",
        "outputId": "f5d3fcb3-4405-4af9-c471-b7198e3a3d4a"
      },
      "source": [
        "from google.colab import drive\n",
        "drive.mount('/content/drive')"
      ],
      "execution_count": null,
      "outputs": [
        {
          "output_type": "stream",
          "text": [
            "Mounted at /content/drive\n"
          ],
          "name": "stdout"
        }
      ]
    },
    {
      "cell_type": "code",
      "metadata": {
        "colab": {
          "base_uri": "https://localhost:8080/"
        },
        "id": "zQo6ORQKXQpp",
        "outputId": "08db8fc0-2594-43cf-dc7e-e0a60d4c5c1b"
      },
      "source": [
        "# importing libraries\n",
        "from pathlib import Path\n",
        "import glob\n",
        "import pandas as pd\n",
        "\n",
        "# reading images from path\n",
        "images_dir = Path('/content/drive/MyDrive/Research/Covid Conference/NonCovid')\n",
        "images = images_dir.glob(\"*.*\")\n",
        "\n",
        "images_dir1 = Path('/content/drive/MyDrive/Research/Covid Conference/Healthy')\n",
        "images1 = images_dir1.glob(\"*.*\")\n",
        "\n",
        "images_dir2 = Path('/content/drive/MyDrive/Research/Covid Conference/Covid')\n",
        "images2 = images_dir2.glob(\"*.*\")\n",
        "\n",
        "train_data = []\n",
        "\n",
        "for img in images:\n",
        "    train_data.append((img,0))\n",
        "for img1 in images1:\n",
        "    train_data.append((img1,1))\n",
        "for img2 in images2:\n",
        "    train_data.append((img2,2))   \n",
        "\n",
        "len(train_data)"
      ],
      "execution_count": null,
      "outputs": [
        {
          "output_type": "execute_result",
          "data": {
            "text/plain": [
              "3790"
            ]
          },
          "metadata": {
            "tags": []
          },
          "execution_count": 2
        }
      ]
    },
    {
      "cell_type": "code",
      "metadata": {
        "id": "leJzTeEjXQp1"
      },
      "source": [
        "train_data = pd.DataFrame(train_data,columns=['image','label'],index = None)"
      ],
      "execution_count": null,
      "outputs": []
    },
    {
      "cell_type": "code",
      "metadata": {
        "colab": {
          "base_uri": "https://localhost:8080/"
        },
        "id": "Nv-DOucBXQp4",
        "outputId": "6cb8773d-9ef7-43e1-8558-864b7b670e11"
      },
      "source": [
        "train_data.shape"
      ],
      "execution_count": null,
      "outputs": [
        {
          "output_type": "execute_result",
          "data": {
            "text/plain": [
              "(3790, 2)"
            ]
          },
          "metadata": {
            "tags": []
          },
          "execution_count": 4
        }
      ]
    },
    {
      "cell_type": "code",
      "metadata": {
        "colab": {
          "base_uri": "https://localhost:8080/"
        },
        "id": "OvDeCRQBXQp7",
        "outputId": "e813991c-c91f-4239-8c73-49a89d121169"
      },
      "source": [
        "train_data['label'].value_counts()"
      ],
      "execution_count": null,
      "outputs": [
        {
          "output_type": "execute_result",
          "data": {
            "text/plain": [
              "1    1309\n",
              "2    1252\n",
              "0    1229\n",
              "Name: label, dtype: int64"
            ]
          },
          "metadata": {
            "tags": []
          },
          "execution_count": 5
        }
      ]
    },
    {
      "cell_type": "code",
      "metadata": {
        "id": "MFy8tUnIXQp_"
      },
      "source": [
        "import cv2\n",
        "img = cv2.imread(str(train_data['image'][0]))\n",
        "img = cv2.resize(img, (229,229))\n",
        "img = cv2.cvtColor(img, cv2.COLOR_BGR2GRAY)"
      ],
      "execution_count": null,
      "outputs": []
    },
    {
      "cell_type": "code",
      "metadata": {
        "id": "UUoUe_FYXQqJ"
      },
      "source": [
        "from keras.preprocessing.image import ImageDataGenerator \n",
        "from keras.models import Sequential \n",
        "from keras.layers import Conv2D, MaxPooling2D \n",
        "from keras.layers import Activation, Dropout, Flatten, Dense \n",
        "from keras import backend as K "
      ],
      "execution_count": null,
      "outputs": []
    },
    {
      "cell_type": "code",
      "metadata": {
        "id": "U60Md3LfXQqd"
      },
      "source": [
        "import keras\n",
        "from keras.models import Sequential\n",
        "from keras.layers import Dense, Dropout, Flatten\n",
        "from keras.layers import Conv2D, MaxPooling2D\n",
        "from keras.utils import to_categorical\n",
        "from keras.preprocessing import image\n",
        "import numpy as np\n",
        "import pandas as pd\n",
        "import matplotlib.pyplot as plt\n",
        "from sklearn.model_selection import train_test_split\n",
        "from keras.utils import to_categorical\n",
        "from tqdm import tqdm"
      ],
      "execution_count": null,
      "outputs": []
    },
    {
      "cell_type": "code",
      "metadata": {
        "colab": {
          "base_uri": "https://localhost:8080/"
        },
        "id": "ekpBGeH0XQqz",
        "outputId": "56d187c2-3836-4bc7-8c3c-fa3c93f79697"
      },
      "source": [
        "train_image = []\n",
        "for i in tqdm(range(train_data.shape[0])):\n",
        "    img = image.load_img(str(train_data['image'][i]), target_size=(64,64,1), grayscale=True)\n",
        "    img = image.img_to_array(img)\n",
        "    img = img/255\n",
        "    train_image.append(img)"
      ],
      "execution_count": null,
      "outputs": [
        {
          "output_type": "stream",
          "text": [
            "\r  0%|          | 0/3790 [00:00<?, ?it/s]/usr/local/lib/python3.7/dist-packages/keras_preprocessing/image/utils.py:107: UserWarning: grayscale is deprecated. Please use color_mode = \"grayscale\"\n",
            "  warnings.warn('grayscale is deprecated. Please use '\n",
            "100%|██████████| 3790/3790 [16:59<00:00,  3.72it/s]\n"
          ],
          "name": "stderr"
        }
      ]
    },
    {
      "cell_type": "code",
      "metadata": {
        "id": "MIanrc9nXQrC"
      },
      "source": [
        "X = np.array(train_image)"
      ],
      "execution_count": null,
      "outputs": []
    },
    {
      "cell_type": "code",
      "metadata": {
        "id": "TvuqAweMXQrN"
      },
      "source": [
        "y=train_data['label'].values\n",
        "y = to_categorical(y)"
      ],
      "execution_count": null,
      "outputs": []
    },
    {
      "cell_type": "code",
      "metadata": {
        "id": "s6tWbdmhXQrT"
      },
      "source": [
        "X_train, X_test, y_train, y_test = train_test_split(X, y, random_state=42, test_size=0.2)"
      ],
      "execution_count": null,
      "outputs": []
    },
    {
      "cell_type": "code",
      "metadata": {
        "colab": {
          "base_uri": "https://localhost:8080/"
        },
        "id": "QHc2yZWKlYWp",
        "outputId": "dd01f5e3-a954-4b0f-93f2-5572ea0d66a7"
      },
      "source": [
        "len(X_train)"
      ],
      "execution_count": null,
      "outputs": [
        {
          "output_type": "execute_result",
          "data": {
            "text/plain": [
              "3032"
            ]
          },
          "metadata": {
            "tags": []
          },
          "execution_count": 13
        }
      ]
    },
    {
      "cell_type": "markdown",
      "metadata": {
        "id": "GmY0MkATXQrd"
      },
      "source": [
        "Convolutional Neural Network"
      ]
    },
    {
      "cell_type": "code",
      "metadata": {
        "id": "mpmm_alqXQrf"
      },
      "source": [
        "# Define the model structure\n",
        "model = Sequential()\n",
        "model.add(Conv2D(32, kernel_size=(3, 3),activation='relu',input_shape=(64,64,1)))\n",
        "\n",
        "model.add(Conv2D(64, (3, 3), activation='relu'))\n",
        "model.add(MaxPooling2D(pool_size=(2, 2)))\n",
        "\n",
        "model.add(Conv2D(64, (3, 3), activation='relu'))\n",
        "model.add(MaxPooling2D(pool_size=(2, 2)))\n",
        "\n",
        "model.add(Conv2D(64, (3, 3), activation='relu'))\n",
        "model.add(MaxPooling2D(pool_size=(2, 2)))\n",
        "\n",
        "model.add(Flatten())\n",
        "\n",
        "model.add(Dense(128, activation='relu'))\n",
        "model.add(Dropout(0.25))\n",
        "\n",
        "model.add(Dense(256, activation='relu'))\n",
        "model.add(Dropout(0.25))\n",
        "\n",
        "model.add(Dense(3, activation='softmax'))"
      ],
      "execution_count": null,
      "outputs": []
    },
    {
      "cell_type": "code",
      "metadata": {
        "id": "l3YtRluLXQrk"
      },
      "source": [
        "model.compile(loss='categorical_crossentropy', \n",
        "              optimizer='adam',\n",
        "              metrics=['accuracy'])"
      ],
      "execution_count": null,
      "outputs": []
    },
    {
      "cell_type": "code",
      "metadata": {
        "colab": {
          "base_uri": "https://localhost:8080/"
        },
        "id": "C9pAg9X3XQrx",
        "outputId": "bc2487bc-0291-4477-aae9-591d39bccf2a"
      },
      "source": [
        "history = model.fit(X_train, y_train, epochs=50, validation_split=0.1)"
      ],
      "execution_count": null,
      "outputs": [
        {
          "output_type": "stream",
          "text": [
            "Epoch 1/50\n",
            "86/86 [==============================] - 52s 591ms/step - loss: 0.7612 - accuracy: 0.5978 - val_loss: 0.4105 - val_accuracy: 0.7829\n",
            "Epoch 2/50\n",
            "86/86 [==============================] - 50s 578ms/step - loss: 0.3731 - accuracy: 0.8268 - val_loss: 0.3424 - val_accuracy: 0.8059\n",
            "Epoch 3/50\n",
            "86/86 [==============================] - 50s 578ms/step - loss: 0.3142 - accuracy: 0.8598 - val_loss: 0.1808 - val_accuracy: 0.9243\n",
            "Epoch 4/50\n",
            "86/86 [==============================] - 50s 584ms/step - loss: 0.2348 - accuracy: 0.9097 - val_loss: 0.1969 - val_accuracy: 0.9243\n",
            "Epoch 5/50\n",
            "86/86 [==============================] - 52s 606ms/step - loss: 0.2182 - accuracy: 0.9182 - val_loss: 0.1616 - val_accuracy: 0.9474\n",
            "Epoch 6/50\n",
            "86/86 [==============================] - 53s 617ms/step - loss: 0.1915 - accuracy: 0.9216 - val_loss: 0.2213 - val_accuracy: 0.9013\n",
            "Epoch 7/50\n",
            "86/86 [==============================] - 50s 581ms/step - loss: 0.1777 - accuracy: 0.9330 - val_loss: 0.2152 - val_accuracy: 0.9013\n",
            "Epoch 8/50\n",
            "86/86 [==============================] - 52s 609ms/step - loss: 0.1401 - accuracy: 0.9429 - val_loss: 0.1328 - val_accuracy: 0.9474\n",
            "Epoch 9/50\n",
            "86/86 [==============================] - 51s 595ms/step - loss: 0.1117 - accuracy: 0.9510 - val_loss: 0.1316 - val_accuracy: 0.9342\n",
            "Epoch 10/50\n",
            "86/86 [==============================] - 49s 575ms/step - loss: 0.0990 - accuracy: 0.9598 - val_loss: 0.1284 - val_accuracy: 0.9375\n",
            "Epoch 11/50\n",
            "86/86 [==============================] - 50s 579ms/step - loss: 0.0833 - accuracy: 0.9698 - val_loss: 0.0852 - val_accuracy: 0.9671\n",
            "Epoch 12/50\n",
            "86/86 [==============================] - 50s 580ms/step - loss: 0.0488 - accuracy: 0.9848 - val_loss: 0.0776 - val_accuracy: 0.9671\n",
            "Epoch 13/50\n",
            "86/86 [==============================] - 50s 576ms/step - loss: 0.0873 - accuracy: 0.9643 - val_loss: 0.1457 - val_accuracy: 0.9507\n",
            "Epoch 14/50\n",
            "86/86 [==============================] - 50s 587ms/step - loss: 0.0581 - accuracy: 0.9783 - val_loss: 0.1446 - val_accuracy: 0.9375\n",
            "Epoch 15/50\n",
            "86/86 [==============================] - 50s 584ms/step - loss: 0.0261 - accuracy: 0.9919 - val_loss: 0.1266 - val_accuracy: 0.9474\n",
            "Epoch 16/50\n",
            "86/86 [==============================] - 50s 581ms/step - loss: 0.0310 - accuracy: 0.9928 - val_loss: 0.1290 - val_accuracy: 0.9507\n",
            "Epoch 17/50\n",
            "86/86 [==============================] - 49s 570ms/step - loss: 0.0446 - accuracy: 0.9826 - val_loss: 0.3303 - val_accuracy: 0.9046\n",
            "Epoch 18/50\n",
            "86/86 [==============================] - 50s 582ms/step - loss: 0.0749 - accuracy: 0.9759 - val_loss: 0.1240 - val_accuracy: 0.9671\n",
            "Epoch 19/50\n",
            "86/86 [==============================] - 49s 572ms/step - loss: 0.0861 - accuracy: 0.9796 - val_loss: 0.1179 - val_accuracy: 0.9638\n",
            "Epoch 20/50\n",
            "86/86 [==============================] - 49s 574ms/step - loss: 0.0167 - accuracy: 0.9942 - val_loss: 0.1012 - val_accuracy: 0.9638\n",
            "Epoch 21/50\n",
            "86/86 [==============================] - 48s 563ms/step - loss: 0.0401 - accuracy: 0.9860 - val_loss: 0.1397 - val_accuracy: 0.9441\n",
            "Epoch 22/50\n",
            "86/86 [==============================] - 49s 566ms/step - loss: 0.0281 - accuracy: 0.9910 - val_loss: 0.1373 - val_accuracy: 0.9704\n",
            "Epoch 23/50\n",
            "86/86 [==============================] - 49s 570ms/step - loss: 0.0092 - accuracy: 0.9956 - val_loss: 0.1090 - val_accuracy: 0.9572\n",
            "Epoch 24/50\n",
            "86/86 [==============================] - 49s 574ms/step - loss: 0.0042 - accuracy: 0.9981 - val_loss: 0.2090 - val_accuracy: 0.9441\n",
            "Epoch 25/50\n",
            "86/86 [==============================] - 49s 572ms/step - loss: 0.0051 - accuracy: 0.9981 - val_loss: 0.1851 - val_accuracy: 0.9474\n",
            "Epoch 26/50\n",
            "86/86 [==============================] - 49s 573ms/step - loss: 0.0120 - accuracy: 0.9951 - val_loss: 0.1404 - val_accuracy: 0.9638\n",
            "Epoch 27/50\n",
            "86/86 [==============================] - 50s 582ms/step - loss: 0.0217 - accuracy: 0.9934 - val_loss: 0.3834 - val_accuracy: 0.9211\n",
            "Epoch 28/50\n",
            "86/86 [==============================] - 50s 586ms/step - loss: 0.0362 - accuracy: 0.9858 - val_loss: 0.1000 - val_accuracy: 0.9737\n",
            "Epoch 29/50\n",
            "86/86 [==============================] - 49s 570ms/step - loss: 0.0141 - accuracy: 0.9952 - val_loss: 0.0848 - val_accuracy: 0.9671\n",
            "Epoch 30/50\n",
            "86/86 [==============================] - 49s 567ms/step - loss: 0.0199 - accuracy: 0.9927 - val_loss: 0.1396 - val_accuracy: 0.9539\n",
            "Epoch 31/50\n",
            "86/86 [==============================] - 49s 567ms/step - loss: 0.0056 - accuracy: 0.9982 - val_loss: 0.1557 - val_accuracy: 0.9605\n",
            "Epoch 32/50\n",
            "86/86 [==============================] - 49s 565ms/step - loss: 0.0040 - accuracy: 0.9985 - val_loss: 0.1200 - val_accuracy: 0.9671\n",
            "Epoch 33/50\n",
            "86/86 [==============================] - 49s 566ms/step - loss: 6.1647e-04 - accuracy: 1.0000 - val_loss: 0.0820 - val_accuracy: 0.9803\n",
            "Epoch 34/50\n",
            "86/86 [==============================] - 50s 577ms/step - loss: 6.1456e-04 - accuracy: 0.9998 - val_loss: 0.1206 - val_accuracy: 0.9704\n",
            "Epoch 35/50\n",
            "86/86 [==============================] - 49s 576ms/step - loss: 0.0064 - accuracy: 0.9978 - val_loss: 0.1938 - val_accuracy: 0.9605\n",
            "Epoch 36/50\n",
            "86/86 [==============================] - 49s 574ms/step - loss: 0.0276 - accuracy: 0.9890 - val_loss: 0.0913 - val_accuracy: 0.9704\n",
            "Epoch 37/50\n",
            "86/86 [==============================] - 50s 584ms/step - loss: 0.0309 - accuracy: 0.9894 - val_loss: 0.1083 - val_accuracy: 0.9605\n",
            "Epoch 38/50\n",
            "86/86 [==============================] - 49s 574ms/step - loss: 0.0159 - accuracy: 0.9952 - val_loss: 0.1200 - val_accuracy: 0.9671\n",
            "Epoch 39/50\n",
            "86/86 [==============================] - 49s 571ms/step - loss: 0.0046 - accuracy: 0.9992 - val_loss: 0.0854 - val_accuracy: 0.9737\n",
            "Epoch 40/50\n",
            "86/86 [==============================] - 49s 566ms/step - loss: 0.0421 - accuracy: 0.9880 - val_loss: 0.1257 - val_accuracy: 0.9539\n",
            "Epoch 41/50\n",
            "86/86 [==============================] - 50s 578ms/step - loss: 0.0102 - accuracy: 0.9974 - val_loss: 0.0860 - val_accuracy: 0.9770\n",
            "Epoch 42/50\n",
            "86/86 [==============================] - 50s 579ms/step - loss: 0.0056 - accuracy: 0.9972 - val_loss: 0.1209 - val_accuracy: 0.9638\n",
            "Epoch 43/50\n",
            "86/86 [==============================] - 49s 572ms/step - loss: 0.0437 - accuracy: 0.9853 - val_loss: 0.0941 - val_accuracy: 0.9737\n",
            "Epoch 44/50\n",
            "86/86 [==============================] - 49s 574ms/step - loss: 0.0183 - accuracy: 0.9936 - val_loss: 0.0695 - val_accuracy: 0.9638\n",
            "Epoch 45/50\n",
            "86/86 [==============================] - 49s 574ms/step - loss: 0.0034 - accuracy: 0.9995 - val_loss: 0.0817 - val_accuracy: 0.9704\n",
            "Epoch 46/50\n",
            "86/86 [==============================] - 51s 592ms/step - loss: 0.0105 - accuracy: 0.9968 - val_loss: 0.1145 - val_accuracy: 0.9638\n",
            "Epoch 47/50\n",
            "86/86 [==============================] - 50s 582ms/step - loss: 0.0024 - accuracy: 0.9997 - val_loss: 0.0692 - val_accuracy: 0.9671\n",
            "Epoch 48/50\n",
            "86/86 [==============================] - 50s 577ms/step - loss: 0.0025 - accuracy: 0.9994 - val_loss: 0.1624 - val_accuracy: 0.9309\n",
            "Epoch 49/50\n",
            "86/86 [==============================] - 49s 567ms/step - loss: 0.0238 - accuracy: 0.9927 - val_loss: 0.2048 - val_accuracy: 0.9474\n",
            "Epoch 50/50\n",
            "86/86 [==============================] - 49s 571ms/step - loss: 0.0280 - accuracy: 0.9922 - val_loss: 0.1259 - val_accuracy: 0.9605\n"
          ],
          "name": "stdout"
        }
      ]
    },
    {
      "cell_type": "code",
      "metadata": {
        "colab": {
          "base_uri": "https://localhost:8080/",
          "height": 295
        },
        "id": "w_4t9i9lFZ21",
        "outputId": "e4c00fe3-5c44-4f74-9d8e-d976d24b0e42"
      },
      "source": [
        " plt.plot(history.history['accuracy'])\n",
        "plt.plot(history.history['val_accuracy'])\n",
        "plt.title('model accuracy')\n",
        "plt.ylabel('accuracy')\n",
        "plt.xlabel('epoch')\n",
        "plt.legend(['train', 'validation'], loc='upper left')\n",
        "plt.show()"
      ],
      "execution_count": null,
      "outputs": [
        {
          "output_type": "display_data",
          "data": {
            "image/png": "[encoded data removed]",
            "text/plain": [
              "<Figure size 432x288 with 1 Axes>"
            ]
          },
          "metadata": {
            "tags": [],
            "needs_background": "light"
          }
        }
      ]
    },
    {
      "cell_type": "code",
      "metadata": {
        "colab": {
          "base_uri": "https://localhost:8080/",
          "height": 295
        },
        "id": "Zj9vglEQFmXh",
        "outputId": "2be23829-7898-4390-e086-40617a41088f"
      },
      "source": [
        "    # \"Loss\"\n",
        "    plt.plot(history.history['loss'])\n",
        "    plt.plot(history.history['val_loss'])\n",
        "    plt.title('model loss')\n",
        "    plt.ylabel('loss')\n",
        "    plt.xlabel('epoch')\n",
        "    plt.legend(['train', 'validation'], loc='upper left')\n",
        "    plt.show()"
      ],
      "execution_count": null,
      "outputs": [
        {
          "output_type": "display_data",
          "data": {
            "image/png": "[encoded data removed]",
            "text/plain": [
              "<Figure size 432x288 with 1 Axes>"
            ]
          },
          "metadata": {
            "tags": [],
            "needs_background": "light"
          }
        }
      ]
    },
    {
      "cell_type": "code",
      "metadata": {
        "id": "HxTvIdN6OlBu",
        "colab": {
          "base_uri": "https://localhost:8080/"
        },
        "outputId": "dba5c5d6-099d-4cf7-d1cd-44ddd0ddf762"
      },
      "source": [
        "pred = model.predict_classes(X_test)"
      ],
      "execution_count": null,
      "outputs": [
        {
          "output_type": "stream",
          "text": [
            "/usr/local/lib/python3.7/dist-packages/tensorflow/python/keras/engine/sequential.py:450: UserWarning: `model.predict_classes()` is deprecated and will be removed after 2021-01-01. Please use instead:* `np.argmax(model.predict(x), axis=-1)`,   if your model does multi-class classification   (e.g. if it uses a `softmax` last-layer activation).* `(model.predict(x) > 0.5).astype(\"int32\")`,   if your model does binary classification   (e.g. if it uses a `sigmoid` last-layer activation).\n",
            "  warnings.warn('`model.predict_classes()` is deprecated and '\n"
          ],
          "name": "stderr"
        }
      ]
    },
    {
      "cell_type": "code",
      "metadata": {
        "colab": {
          "base_uri": "https://localhost:8080/"
        },
        "id": "LgvvZD9rlzJC",
        "outputId": "6086370d-ebb7-460f-97dd-145c55c6d061"
      },
      "source": [
        "len(X_test)"
      ],
      "execution_count": null,
      "outputs": [
        {
          "output_type": "execute_result",
          "data": {
            "text/plain": [
              "758"
            ]
          },
          "metadata": {
            "tags": []
          },
          "execution_count": 20
        }
      ]
    },
    {
      "cell_type": "code",
      "metadata": {
        "id": "lYIUwOk4PpUx"
      },
      "source": [
        "Y_TEST = np.argmax(y_test, axis =1)"
      ],
      "execution_count": null,
      "outputs": []
    },
    {
      "cell_type": "code",
      "metadata": {
        "id": "EDsXtlTyFSds"
      },
      "source": [
        "import warnings\n",
        "warnings.filterwarnings('ignore')"
      ],
      "execution_count": null,
      "outputs": []
    },
    {
      "cell_type": "code",
      "metadata": {
        "colab": {
          "base_uri": "https://localhost:8080/"
        },
        "id": "Z8g9jwTlOzQN",
        "outputId": "d467064d-1cc3-4886-ab1d-ee72e634bd4a"
      },
      "source": [
        "from sklearn.metrics import classification_report\n",
        "print(classification_report(Y_TEST, pred))"
      ],
      "execution_count": null,
      "outputs": [
        {
          "output_type": "stream",
          "text": [
            "              precision    recall  f1-score   support\n",
            "\n",
            "           0       0.95      0.95      0.95       271\n",
            "           1       1.00      1.00      1.00       264\n",
            "           2       0.94      0.94      0.94       223\n",
            "\n",
            "    accuracy                           0.96       758\n",
            "   macro avg       0.96      0.96      0.96       758\n",
            "weighted avg       0.96      0.96      0.96       758\n",
            "\n"
          ],
          "name": "stdout"
        }
      ]
    },
    {
      "cell_type": "code",
      "metadata": {
        "colab": {
          "base_uri": "https://localhost:8080/",
          "height": 312
        },
        "id": "KwqpWpyrP34K",
        "outputId": "3f65b044-5a15-4c32-c9b0-9c0b489a2c2c"
      },
      "source": [
        "import seaborn as sns\n",
        "import sklearn.metrics as metrics\n",
        "plt.figure()\n",
        "\n",
        "ax = plt.subplot()\n",
        "\n",
        "ax.set_title('Confusion Matrix')\n",
        "pred = model.predict_classes(X_test)\n",
        "Y_TEST = np.argmax(y_test, axis =1)\n",
        "cm = metrics.confusion_matrix(Y_TEST,pred)\n",
        "classes=['Other pulmonary', 'Healthy', 'Covid']\n",
        "sns.heatmap(cm, fmt='d', annot=True, square=True, cbar=True, xticklabels=classes, yticklabels=classes,cmap='Blues')\n",
        "\n",
        "plt.xlabel('Predicted')\n",
        "plt.ylabel('Actual')\n",
        "plt.show"
      ],
      "execution_count": null,
      "outputs": [
        {
          "output_type": "execute_result",
          "data": {
            "text/plain": [
              "<function matplotlib.pyplot.show>"
            ]
          },
          "metadata": {
            "tags": []
          },
          "execution_count": 25
        },
        {
          "output_type": "display_data",
          "data": {
            "image/png": "[encoded data removed]",
            "text/plain": [
              "<Figure size 432x288 with 2 Axes>"
            ]
          },
          "metadata": {
            "tags": [],
            "needs_background": "light"
          }
        }
      ]
    },
    {
      "cell_type": "code",
      "metadata": {
        "colab": {
          "base_uri": "https://localhost:8080/"
        },
        "id": "tvVbShOcQhft",
        "outputId": "63391fce-5622-4b40-e0ec-94e9a4731629"
      },
      "source": [
        "pred = model.predict_classes(X_test)\n",
        "Y_TEST = np.argmax(y_test, axis =1)\n",
        "cm = metrics.confusion_matrix(Y_TEST,pred)\n",
        "print(cm)"
      ],
      "execution_count": null,
      "outputs": [
        {
          "output_type": "stream",
          "text": [
            "[[257   0  14]\n",
            " [  0 264   0]\n",
            " [ 14   0 209]]\n"
          ],
          "name": "stdout"
        }
      ]
    },
    {
      "cell_type": "code",
      "metadata": {
        "id": "3whNFYJ16JKo"
      },
      "source": [
        "from sklearn.metrics import accuracy_score,roc_curve,confusion_matrix,precision_score,recall_score,f1_score,roc_auc_score"
      ],
      "execution_count": null,
      "outputs": []
    },
    {
      "cell_type": "code",
      "metadata": {
        "id": "0LP7oEzT6OS0"
      },
      "source": [
        "import matplotlib.pyplot as plt\n",
        "import matplotlib.pyplot as plt_False_Positive_vs_True_Positive"
      ],
      "execution_count": null,
      "outputs": []
    },
    {
      "cell_type": "code",
      "metadata": {
        "id": "80KraMeY5oPW"
      },
      "source": [
        "from sklearn.preprocessing import label_binarize\n",
        "from sklearn.metrics import roc_curve, auc\n",
        "\n",
        "PRED = to_categorical(pred)\n",
        "y = train_data['label'].values\n",
        "# Binarize the output\n",
        "y = label_binarize(y, classes=[0,1,2])\n",
        "n_classes = y.shape[1]\n",
        "\n",
        "fpr = dict()\n",
        "tpr = dict()\n",
        "roc_auc = dict()\n",
        "for i in range(n_classes):\n",
        "       fpr[i], tpr[i], _ = roc_curve(y_test[:,i], PRED[:,i])\n",
        "       roc_auc[i] = auc(fpr[i], tpr[i])"
      ],
      "execution_count": null,
      "outputs": []
    },
    {
      "cell_type": "code",
      "metadata": {
        "colab": {
          "base_uri": "https://localhost:8080/",
          "height": 295
        },
        "id": "mnH4tIPp-Fht",
        "outputId": "594178a5-4544-4bf0-e9fc-4636019f5dce"
      },
      "source": [
        "colors = ['blue', 'red', 'green']\n",
        "cls = {0:'Non-Covid', 1:'Healthy', 2:'Covid'}\n",
        "for i, color ,c in zip(range(3), colors, cls.values()):\n",
        "    plt.plot(fpr[i], tpr[i], color=color, lw=0.5,\n",
        "             label='ROC curve of '+c+ '(AUC = {1:0.2f})'\n",
        "             ''.format(i, roc_auc[i]))\n",
        "plt.plot([0, 1], [0, 1], 'k--',linestyle='--')\n",
        "plt.xlim([-0.05, 1.0])\n",
        "plt.ylim([0.0, 1.05])\n",
        "plt.xlabel('False Positive Rate')\n",
        "plt.ylabel('True Positive Rate')\n",
        "plt.title('ROC for multi-class data')\n",
        "plt.legend(loc=\"lower right\")\n",
        "plt.show()"
      ],
      "execution_count": null,
      "outputs": [
        {
          "output_type": "display_data",
          "data": {
            "image/png": "[encoded data removed]",
            "text/plain": [
              "<Figure size 432x288 with 1 Axes>"
            ]
          },
          "metadata": {
            "tags": [],
            "needs_background": "light"
          }
        }
      ]
    },
    {
      "cell_type": "code",
      "metadata": {
        "id": "ctbOYzVL1XMn",
        "colab": {
          "base_uri": "https://localhost:8080/",
          "height": 318
        },
        "outputId": "776f9e6b-703e-482c-c5d5-c94f466a3570"
      },
      "source": [
        "import seaborn as sns\n",
        "import sklearn.metrics as metrics\n",
        "plt.figure()\n",
        "\n",
        "ax = plt.subplot()\n",
        "label_font = {'size':'16'}\n",
        "ax.set_title('Confusion Matrix', fontdict=label_font)\n",
        "pred = model.predict_classes(X_test)\n",
        "Y_TEST = np.argmax(y_test, axis =1)\n",
        "cm = metrics.confusion_matrix(Y_TEST,pred, normalize=None)\n",
        "classes=['Other Pulmonary', 'Healthy', 'Covid']\n",
        "sns.heatmap(cm, square=True, annot=True, fmt='g', cbar=True, xticklabels=classes, yticklabels=classes,cmap='Blues')\n",
        "label_font1 = {'size':'14'}\n",
        "plt.xlabel('Predicted', fontdict=label_font1)\n",
        "label_font2 = {'size':'14'}\n",
        "plt.ylabel('Actual', fontdict=label_font2)\n",
        "plt.show"
      ],
      "execution_count": null,
      "outputs": [
        {
          "output_type": "execute_result",
          "data": {
            "text/plain": [
              "<function matplotlib.pyplot.show>"
            ]
          },
          "metadata": {
            "tags": []
          },
          "execution_count": 32
        },
        {
          "output_type": "display_data",
          "data": {
            "image/png": "[encoded data removed]",
            "text/plain": [
              "<Figure size 432x288 with 2 Axes>"
            ]
          },
          "metadata": {
            "tags": [],
            "needs_background": "light"
          }
        }
      ]
    },
    {
      "cell_type": "code",
      "metadata": {
        "id": "L_SAVRyRMCQf"
      },
      "source": [
        ""
      ],
      "execution_count": null,
      "outputs": []
    }
  ]
}